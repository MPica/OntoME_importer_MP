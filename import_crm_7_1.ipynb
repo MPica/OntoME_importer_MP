{
 "cells": [
  {
   "cell_type": "markdown",
   "id": "da8f925c-c9e9-469a-9f6b-d23fb06cc43c",
   "metadata": {},
   "source": [
    "## Importer la version 7.1.1 du CIDOC CRM base\n",
    "\n",
    "Ce carnet prépare le fichier à importer dans OntoME\n"
   ]
  },
  {
   "cell_type": "code",
   "execution_count": null,
   "id": "ae431e81-1a2e-41a9-84d9-51b64c7b0a4d",
   "metadata": {},
   "outputs": [],
   "source": [
    "import lxml.etree as et\n",
    "from datetime import datetime\n",
    "import re"
   ]
  },
  {
   "cell_type": "code",
   "execution_count": null,
   "id": "05eb68db-0236-413d-a749-2db0aff4c6a1",
   "metadata": {},
   "outputs": [],
   "source": [
    "file = 'data/cidoc_crm_v7.1.1_with_tags.xml'\n",
    "file = 'data/cidoc_crm_v7.1.1.xml'"
   ]
  },
  {
   "cell_type": "code",
   "execution_count": null,
   "id": "3ca7d6e3-053b-47c6-917a-7d4b25287fec",
   "metadata": {},
   "outputs": [],
   "source": [
    "### Ouvrir et importer le fichier\n",
    "try:\n",
    "    xmlf = et.parse(file)\n",
    "    print(type(xmlf))\n",
    "except Exception as e:\n",
    "    print('Error: ' + str(e))"
   ]
  },
  {
   "cell_type": "code",
   "execution_count": null,
   "id": "5c191fc3-0dc7-4aa3-a1c4-8bd4459fc1c8",
   "metadata": {},
   "outputs": [],
   "source": [
    "### Transformer le fichier de _ElementTree à _Element\n",
    "#  afin de pouvoir utiliser les méthodes etree \n",
    "crm = xmlf.getroot()\n",
    "type(crm)"
   ]
  },
  {
   "cell_type": "code",
   "execution_count": null,
   "id": "d8fbc8ef-fe90-41ae-aa61-4d11b602838e",
   "metadata": {
    "tags": []
   },
   "outputs": [],
   "source": [
    "### Tester la récupération des balises 'class'\n",
    "classes_orig = crm.xpath('./classes/class')\n",
    "print(type(classes_orig[0]))\n",
    "for c in classes_orig[:5]:\n",
    "    print(c.attrib)\n"
   ]
  },
  {
   "cell_type": "code",
   "execution_count": null,
   "id": "996258bd-abf8-4798-b593-98dc0beb3eca",
   "metadata": {},
   "outputs": [],
   "source": []
  },
  {
   "cell_type": "code",
   "execution_count": null,
   "id": "f4b06c7b-5254-4f70-8c90-3f2de07bed4a",
   "metadata": {
    "tags": []
   },
   "outputs": [],
   "source": [
    "### Créer l'élément racine: namespace\n",
    "namespace = et.Element(\"namespace\")\n",
    "namespace.tag, type(namespace)"
   ]
  },
  {
   "cell_type": "code",
   "execution_count": null,
   "id": "2659e83b-8578-4082-98b3-02c837b38018",
   "metadata": {},
   "outputs": [],
   "source": [
    "### Ajouter l'élément standardLabel\n",
    "standardLabel = et.SubElement(namespace, 'standardLabel')\n",
    "standardLabel.text = 'CIDOC CRM version 7.1.1'\n",
    "standardLabel.set(\"lang\", \"en\")\n",
    "print(et.tostring(namespace, pretty_print=True).decode('utf-8'))"
   ]
  },
  {
   "cell_type": "code",
   "execution_count": null,
   "id": "24e106de-d817-44e9-b344-93fee7bc5c1f",
   "metadata": {},
   "outputs": [],
   "source": [
    "### Ajouter l'élément version\n",
    "version = et.SubElement(namespace, 'version', lang = \"en\")\n",
    "version.text = '7.1.1 (May 2021)'\n",
    "print(et.tostring(namespace, pretty_print=True).decode('utf-8'))"
   ]
  },
  {
   "cell_type": "code",
   "execution_count": null,
   "id": "869913db-7e82-41b6-b79d-425635ac69a9",
   "metadata": {},
   "outputs": [],
   "source": [
    "### Ajouter les éléments classes et properties\n",
    "classes = et.SubElement(namespace, 'classes')\n",
    "properties = et.SubElement(namespace, 'properties')\n",
    "print(et.tostring(namespace, pretty_print=True).decode('utf-8'))"
   ]
  },
  {
   "cell_type": "code",
   "execution_count": null,
   "id": "cb289fab-6e5c-4c01-8024-1a1a50fe0fde",
   "metadata": {},
   "outputs": [],
   "source": [
    "### Deux méthodes d'inspection des enfants\n",
    "namespace.getchildren(), [t for t in namespace]"
   ]
  },
  {
   "cell_type": "code",
   "execution_count": null,
   "id": "07c7a522-a8ed-4222-8e59-e0fc13302e0e",
   "metadata": {},
   "outputs": [],
   "source": []
  },
  {
   "cell_type": "code",
   "execution_count": null,
   "id": "134f1028-838f-471c-a616-79475239c3e0",
   "metadata": {},
   "outputs": [],
   "source": [
    "### Reinitialiser le contenu de la balise 'classes'\n",
    "classes.clear()"
   ]
  },
  {
   "cell_type": "code",
   "execution_count": null,
   "id": "1bb45fe2-3271-4d6e-a1d5-7d3ada25a1c5",
   "metadata": {
    "tags": []
   },
   "outputs": [],
   "source": [
    "### Reinitialiser le contenu de la balise 'classes',\n",
    "#  puis la remplir\n",
    "classes.clear()\n",
    "for c in classes_orig:#[:5]:\n",
    "    # underscore à cause du nom réservé\n",
    "    _class = et.SubElement(classes,\"_class\")\n",
    "    \n",
    "    identifierInNamespace =  et.SubElement(_class,'identifierInNamespace')\n",
    "    identifierInNamespace.text = c.get(key='id')\n",
    "    \n",
    "    standardLabel_l = c.iterchildren(tag='className')\n",
    "    standardLabel = et.SubElement(_class,'standardLabel', lang=\"en\")\n",
    "    standardLabel.text = list(standardLabel_l)[0].text\n",
    "    \n",
    "    subClassOf_l = c.iterchildren(tag='subClassOf')\n",
    "    for scl in subClassOf_l:\n",
    "        subClassOf = et.SubElement(_class,'subClassOf')\n",
    "        subClassOf.text = scl.get(key='id')\n",
    "    \n",
    "    textProperties = et.SubElement(_class, 'textProperties')\n",
    "    \n",
    "    scopeNote_l = c.iterchildren(tag='scopeNote')\n",
    "    scopeNote = et.SubElement(textProperties, 'scopeNote', lang=\"en\")\n",
    "    for sn in scopeNote_l:\n",
    "        [scopeNote.append(p) for p in et.HTML(sn.text).iterdescendants(tag='p')]\n",
    "\n",
    "    examples_l = list(c.iterchildren(tag='examples'))[0]\n",
    "    for li in et.HTML(examples_l.text).xpath('./body/ul/li'):\n",
    "        #example = et.SubElement(textProperties, 'example', lang=\"en\")\n",
    "        # example.text = li.text\n",
    "        li.tag = \"example\"\n",
    "        li.set(\"lang\",\"en\")\n",
    "        textProperties.append(li)\n",
    "\n",
    "    _class.tag = \"class\"        "
   ]
  },
  {
   "cell_type": "code",
   "execution_count": null,
   "id": "c60abfa6-f836-4bc1-a541-b53031ec2482",
   "metadata": {
    "scrolled": true,
    "tags": []
   },
   "outputs": [],
   "source": [
    "# print(et.tostring(namespace, pretty_print=True).decode('utf-8'))"
   ]
  },
  {
   "cell_type": "code",
   "execution_count": null,
   "id": "d61ec078-9f77-4503-a7aa-e45a14bb4193",
   "metadata": {},
   "outputs": [],
   "source": []
  },
  {
   "cell_type": "code",
   "execution_count": null,
   "id": "d2688620-a7c3-4b79-b9a5-5b7873f32143",
   "metadata": {},
   "outputs": [],
   "source": []
  },
  {
   "cell_type": "code",
   "execution_count": null,
   "id": "11dcc89b-4196-4073-9504-0bb37e9fbc7e",
   "metadata": {},
   "outputs": [],
   "source": []
  },
  {
   "cell_type": "code",
   "execution_count": null,
   "id": "955142fc-a43b-4355-8310-2cc12aa94740",
   "metadata": {},
   "outputs": [],
   "source": []
  },
  {
   "cell_type": "code",
   "execution_count": null,
   "id": "61ad9714-340f-44b7-bae8-ac559088cc69",
   "metadata": {
    "tags": []
   },
   "outputs": [],
   "source": [
    "### Tester la récupération des balises 'class'\n",
    "properties_orig = crm.xpath('./properties/property')\n",
    "print(type(properties_orig[0]))\n",
    "for c in properties_orig[:5]:\n",
    "    print(c.attrib)\n"
   ]
  },
  {
   "cell_type": "code",
   "execution_count": null,
   "id": "3d35cdac-3086-45a8-934e-25cecb8f3694",
   "metadata": {},
   "outputs": [],
   "source": [
    "### Préparation du traitement des quantificateurs\n",
    "for p in properties_orig[7:12]:\n",
    "    txt = list(p.iterchildren('quantification'))[0].text\n",
    "    x = re.findall(\"\\(.{,10}\\)\", txt)\n",
    "    if len(x):\n",
    "        a = (x[0].strip('\\s\\(\\)'))\n",
    "        print(a[0])\n",
    "        print(a[2])\n",
    "        print(a[4])\n",
    "        print(a[6])\n",
    "        "
   ]
  },
  {
   "cell_type": "code",
   "execution_count": null,
   "id": "171a1752-c50b-4f73-b0d3-ec3275619f64",
   "metadata": {},
   "outputs": [],
   "source": [
    "### Reinitialiser le contenu de la balise 'properties',\n",
    "#  puis la remplir\n",
    "properties.clear()\n",
    "for p in properties_orig: #[7:12]:\n",
    "    # underscore à cause du nom réservé\n",
    "    _property = et.SubElement(properties,\"_property\")\n",
    "    \n",
    "    identifierInNamespace =  et.SubElement(_property,'identifierInNamespace')\n",
    "    identifierInNamespace.text = p.get(key='id')\n",
    "\n",
    "    label =  et.SubElement(_property,'label', lang=\"en\")\n",
    "    standardLabel = et.SubElement(label,'standardLabel')\n",
    "    standardLabel.text = list(p.iterchildren(tag='directName'))[0].text\n",
    "    \n",
    "    inverseLabel = et.SubElement(label,'inverseLabel')\n",
    "    if len(list(p.iterchildren(tag='inverseName'))):\n",
    "        inverseLabel.text = list(p.iterchildren(tag='inverseName'))[0].text\n",
    "    else:\n",
    "        inverseLabel.text = ''\n",
    "\n",
    "    subPropertyOf_l = p.iterchildren(tag='subPropertyOf')\n",
    "    for spo in subPropertyOf_l:\n",
    "        subPropertyOf = et.SubElement(_property,'subPropertyOf')\n",
    "        subPropertyOf.text = spo.get(key='id').replace('i','')\n",
    "        \n",
    "    hasDomain = et.SubElement(_property,'hasDomain')   \n",
    "    hasDomain.text = list(p.iterchildren(tag='domain'))[0].get(key='id')\n",
    "    \n",
    "    hasRange = et.SubElement(_property,'hasRange')   \n",
    "    hasRange.text = list(p.iterchildren(tag='range'))[0].get(key='id')\n",
    "    \n",
    "    txt = list(p.iterchildren('quantification'))[0].text\n",
    "    x = re.findall(\"\\(.{,10}\\)\", txt)\n",
    "    if len(x):\n",
    "        a = (x[0].strip('\\s\\(\\)'))\n",
    "        domainInstancesMinQuantifier = et.SubElement(_property,\\\n",
    "                                            'domainInstancesMinQuantifier')\n",
    "        domainInstancesMinQuantifier.text = a[4]\n",
    "        domainInstancesMaxQuantifier = et.SubElement(_property,\\\n",
    "                                            'domainInstancesMaxQuantifier')\n",
    "        domainInstancesMaxQuantifier.text = a[6]\n",
    "        rangeInstancesMinQuantifier = et.SubElement(_property,\\\n",
    "                                            'rangeInstancesMinQuantifier')\n",
    "        rangeInstancesMinQuantifier.text = a[0]\n",
    "        rangeInstancesMinQuantifier = et.SubElement(_property,\\\n",
    "                                            'rangeInstancesMinQuantifier')\n",
    "        rangeInstancesMinQuantifier.text = a[2]\n",
    "\n",
    "    textProperties = et.SubElement(_property, 'textProperties')      \n",
    "    \n",
    "    scopeNote_l = p.iterchildren(tag='scopeNote')\n",
    "    scopeNote = et.SubElement(textProperties, 'scopeNote', lang=\"en\")\n",
    "    for sn in scopeNote_l:\n",
    "        [scopeNote.append(p) for p in et.HTML(sn.text).iterdescendants(tag='p')]\n",
    "        \n",
    "    if len(list(p.iterchildren(tag='examples'))):\n",
    "        examples_l = list(p.iterchildren(tag='examples'))[0]\n",
    "        for li in et.HTML(examples_l.text).xpath('./body/ul/li'):\n",
    "            #example = et.SubElement(textProperties, 'example', lang=\"en\")\n",
    "            # example.text = li.text\n",
    "            li.tag = \"example\"\n",
    "            li.set(\"lang\",\"en\")\n",
    "            textProperties.append(li)    \n",
    " \n",
    "    _property.tag = \"property\""
   ]
  },
  {
   "cell_type": "code",
   "execution_count": null,
   "id": "5a70fb7b-b569-4517-8c2a-703683f83540",
   "metadata": {
    "scrolled": true,
    "tags": []
   },
   "outputs": [],
   "source": [
    "# print(et.tostring(namespace, pretty_print=True).decode('utf-8'))"
   ]
  },
  {
   "cell_type": "code",
   "execution_count": null,
   "id": "de2a4b66-d2bf-40a3-a7a0-4610c6aa490a",
   "metadata": {},
   "outputs": [],
   "source": []
  },
  {
   "cell_type": "code",
   "execution_count": null,
   "id": "622cd8e5-c0c9-4672-9127-66222be4346c",
   "metadata": {},
   "outputs": [],
   "source": []
  },
  {
   "cell_type": "code",
   "execution_count": null,
   "id": "2e6307cc-8429-4d21-b054-409f2249c383",
   "metadata": {},
   "outputs": [],
   "source": [
    "### Ecrire le document\n",
    "dt = datetime.now()\n",
    "tmsp = dt.strftime(\"%Y%m%d_%H%M%S\")\n",
    "# tmsp = ''\n",
    "filename = f'data/output_{tmsp}.xml'\n",
    "### Préparer l'arbre XML et l'écrire dans un fichier\n",
    "# la méthode write() est disponible pour le type _ElementTree non pour _Element\n",
    "tree = namespace.getroottree()\n",
    "tree.write(filename, pretty_print=True)"
   ]
  },
  {
   "cell_type": "code",
   "execution_count": null,
   "id": "7cf93d21-fba2-4017-9588-7c0677a3dd17",
   "metadata": {},
   "outputs": [],
   "source": []
  },
  {
   "cell_type": "code",
   "execution_count": null,
   "id": "22d7d2a0-020b-4774-9fdd-2372ddb6a1ae",
   "metadata": {},
   "outputs": [],
   "source": [
    "### Normalement cette syntaxe doit tester si le document de sortie est bien formé\n",
    "with open(filename, 'r') as f:\n",
    "    txt = f.read()\n",
    "    \n",
    "    \n",
    "try:\n",
    "    test_xmlf = et.fromstring(txt)\n",
    "    print(type(test_xmlf))\n",
    "except Exception as e:\n",
    "    print('Error: ' + str(e))\n",
    "    "
   ]
  },
  {
   "cell_type": "code",
   "execution_count": null,
   "id": "397b8c9d-b538-414d-bea5-69768046111b",
   "metadata": {},
   "outputs": [],
   "source": []
  },
  {
   "cell_type": "code",
   "execution_count": null,
   "id": "fb5432ad-7b6c-41c1-8a99-d1cffc879a42",
   "metadata": {},
   "outputs": [],
   "source": []
  },
  {
   "cell_type": "code",
   "execution_count": null,
   "id": "cc815452-2a5d-4bc6-831c-0482b95f7485",
   "metadata": {},
   "outputs": [],
   "source": []
  }
 ],
 "metadata": {
  "kernelspec": {
   "display_name": "HTML XML",
   "language": "python",
   "name": "py39_html_xml"
  },
  "language_info": {
   "codemirror_mode": {
    "name": "ipython",
    "version": 3
   },
   "file_extension": ".py",
   "mimetype": "text/x-python",
   "name": "python",
   "nbconvert_exporter": "python",
   "pygments_lexer": "ipython3",
   "version": "3.9.10"
  }
 },
 "nbformat": 4,
 "nbformat_minor": 5
}
