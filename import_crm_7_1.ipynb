{
 "cells": [
  {
   "cell_type": "markdown",
   "id": "da8f925c-c9e9-469a-9f6b-d23fb06cc43c",
   "metadata": {},
   "source": [
    "## Importer la version 7.1.1 du CIDOC CRM base\n",
    "\n",
    "Ce carnet prépare le fichier à importer dans OntoME\n"
   ]
  },
  {
   "cell_type": "code",
   "execution_count": 1,
   "id": "ae431e81-1a2e-41a9-84d9-51b64c7b0a4d",
   "metadata": {},
   "outputs": [],
   "source": [
    "import lxml.etree as et\n",
    "import lxml.html as ht\n",
    "from datetime import datetime\n",
    "import re\n",
    "from itertools import chain"
   ]
  },
  {
   "cell_type": "markdown",
   "id": "a8879bba-ef4a-4b4f-bd63-bdb9fd900ccd",
   "metadata": {},
   "source": [
    "### Initialisation du parseur"
   ]
  },
  {
   "cell_type": "code",
   "execution_count": 2,
   "id": "9d651cb8-c507-4c2d-868f-97b031fd4e06",
   "metadata": {},
   "outputs": [
    {
     "data": {
      "text/plain": [
       "lxml.etree.XMLSchema"
      ]
     },
     "execution_count": 2,
     "metadata": {},
     "output_type": "execute_result"
    }
   ],
   "source": [
    "### Documentation :\n",
    "#  https://lxml.de/validation.html#xmlschema\n",
    "f = 'references/schemaImportXmlwithReferences.xml'\n",
    "xmlschema_doc = et.parse(f)\n",
    "xmlschema = et.XMLSchema(xmlschema_doc)\n",
    "type(xmlschema)"
   ]
  },
  {
   "cell_type": "markdown",
   "id": "7d0d03cf-5890-4e6d-98e4-16ae3fe44347",
   "metadata": {},
   "source": [
    "### Importation du document à traiter"
   ]
  },
  {
   "cell_type": "code",
   "execution_count": 3,
   "id": "05eb68db-0236-413d-a749-2db0aff4c6a1",
   "metadata": {},
   "outputs": [],
   "source": [
    "file = 'data/cidoc_crm_v7.1.1.xml'"
   ]
  },
  {
   "cell_type": "code",
   "execution_count": 4,
   "id": "3ca7d6e3-053b-47c6-917a-7d4b25287fec",
   "metadata": {},
   "outputs": [
    {
     "name": "stdout",
     "output_type": "stream",
     "text": [
      "<class 'lxml.etree._ElementTree'>\n"
     ]
    }
   ],
   "source": [
    "### Ouvrir et importer le fichier\n",
    "try:\n",
    "    xmlf = et.parse(file)\n",
    "    print(type(xmlf))\n",
    "except Exception as e:\n",
    "    print('Error: ' + str(e))"
   ]
  },
  {
   "cell_type": "code",
   "execution_count": 5,
   "id": "5c191fc3-0dc7-4aa3-a1c4-8bd4459fc1c8",
   "metadata": {},
   "outputs": [
    {
     "data": {
      "text/plain": [
       "lxml.etree._Element"
      ]
     },
     "execution_count": 5,
     "metadata": {},
     "output_type": "execute_result"
    }
   ],
   "source": [
    "### Transformer le fichier de _ElementTree à _Element\n",
    "#  afin de pouvoir utiliser les méthodes etree \n",
    "crm = xmlf.getroot()\n",
    "type(crm)"
   ]
  },
  {
   "cell_type": "code",
   "execution_count": 6,
   "id": "d8fbc8ef-fe90-41ae-aa61-4d11b602838e",
   "metadata": {
    "tags": []
   },
   "outputs": [
    {
     "name": "stdout",
     "output_type": "stream",
     "text": [
      "<class 'lxml.etree._Element'>\n",
      "{'id': 'E1'}\n",
      "{'id': 'E2'}\n",
      "{'id': 'E3'}\n",
      "{'id': 'E4'}\n",
      "{'id': 'E5'}\n"
     ]
    }
   ],
   "source": [
    "### Tester la récupération des balises 'class'\n",
    "classes_orig = crm.xpath('./classes/class')\n",
    "print(type(classes_orig[0]))\n",
    "for c in classes_orig[:5]:\n",
    "    print(c.attrib)\n"
   ]
  },
  {
   "cell_type": "code",
   "execution_count": 7,
   "id": "05f23632-5182-491e-b5cc-ff316e9dec48",
   "metadata": {
    "scrolled": true,
    "tags": []
   },
   "outputs": [
    {
     "name": "stdout",
     "output_type": "stream",
     "text": [
      "{'id': 'E8'}\n",
      "scopeNote <p>This class comprises transfers of legal ownership from one or more instances of E39 Actor to one or more other instances of E39 Actor. </p><p>The class also applies to the establishment or loss of ownership of instances of E18 Physical Thing. It does not, however, imply changes of any other kinds of right. The recording of the donor and/or recipient is optional. It is possible that in an instance of E8 Acquisition there is either no donor or no recipient. Depending on the circumstances, it may describe:</p><ol><li>the beginning of ownership</li><li>the end of ownership</li><li>the transfer of ownership</li><li>the acquisition from an unknown source</li><li>the loss of title due to destruction of the item</li></ol><p>It may also describe events where a collector appropriates legal title, for example by annexation or field collection. The interpretation of the museum notion of \"accession\" differs between institutions. The CIDOC CRM therefore models legal ownership (E8 Acquisition) and physical custody (E10 Transfer of Custody) separately. Institutions will then model their specific notions of accession and deaccession as combinations of these.</p>\n",
      "----\n",
      "{'id': 'E9'}\n",
      "scopeNote <p>This class comprises changes of the physical location of the instances of E19 Physical Object. </p><p>Note, that the class E9 Move inherits the property <em>P7 took place at (witnessed): </em>E53 Place. This property should be used to describe the trajectory or a larger area within which a move takes place, whereas the properties <em>P26 moved to (was destination of)</em>, <em>P27 moved from (was origin of)</em> describe the start and end points only. Moves may also be documented to consist of other moves (via <em>P9 consists of (forms part of)</em>), in order to describe intermediate stages on a trajectory. In that case, start and end points of the partial moves should match appropriately between each other and with the overall event.</p>\n",
      "----\n"
     ]
    }
   ],
   "source": [
    "for c in classes_orig[7:9]:\n",
    "    print(c.attrib)\n",
    "    ic = c.iterchildren(tag='scopeNote')\n",
    "    for c in ic:\n",
    "        print(c.tag, c.text)\n",
    "    print('----')    "
   ]
  },
  {
   "cell_type": "markdown",
   "id": "00004a7d-e94d-4c92-904f-cb95f74d3a09",
   "metadata": {},
   "source": [
    "### Création du document à produire \n",
    "\n",
    "Création du document à produire en vue de l'importation dans OntoME"
   ]
  },
  {
   "cell_type": "code",
   "execution_count": 8,
   "id": "f4b06c7b-5254-4f70-8c90-3f2de07bed4a",
   "metadata": {
    "tags": []
   },
   "outputs": [
    {
     "data": {
      "text/plain": [
       "('namespace', lxml.etree._Element)"
      ]
     },
     "execution_count": 8,
     "metadata": {},
     "output_type": "execute_result"
    }
   ],
   "source": [
    "### Créer l'élément racine: namespace\n",
    "namespace = et.Element(\"namespace\")\n",
    "namespace.tag, type(namespace)"
   ]
  },
  {
   "cell_type": "code",
   "execution_count": 9,
   "id": "2659e83b-8578-4082-98b3-02c837b38018",
   "metadata": {},
   "outputs": [
    {
     "name": "stdout",
     "output_type": "stream",
     "text": [
      "<namespace>\n",
      "  <standardLabel lang=\"en\">7.1.1 (Mai 2021)</standardLabel>\n",
      "</namespace>\n",
      "\n"
     ]
    }
   ],
   "source": [
    "### Ajouter l'élément standardLabel\n",
    "standardLabel = et.SubElement(namespace, 'standardLabel', lang = 'en')\n",
    "standardLabel.text = '7.1.1 (Mai 2021)'\n",
    "print(et.tostring(namespace, pretty_print=True).decode('utf-8'))"
   ]
  },
  {
   "cell_type": "code",
   "execution_count": 10,
   "id": "24e106de-d817-44e9-b344-93fee7bc5c1f",
   "metadata": {},
   "outputs": [
    {
     "name": "stdout",
     "output_type": "stream",
     "text": [
      "<namespace>\n",
      "  <standardLabel lang=\"en\">7.1.1 (Mai 2021)</standardLabel>\n",
      "  <version>7.1.1 (May 2021)</version>\n",
      "</namespace>\n",
      "\n"
     ]
    }
   ],
   "source": [
    "### Ajouter l'élément version\n",
    "version = et.SubElement(namespace, 'version')\n",
    "version.text = '7.1.1 (May 2021)'\n",
    "print(et.tostring(namespace, pretty_print=True).decode('utf-8'))"
   ]
  },
  {
   "cell_type": "code",
   "execution_count": 14,
   "id": "cf640fd0",
   "metadata": {},
   "outputs": [
    {
     "name": "stdout",
     "output_type": "stream",
     "text": [
      "<namespace>\n",
      "  <standardLabel lang=\"en\">7.1.1 (Mai 2021)</standardLabel>\n",
      "  <version>7.1.1 (May 2021)</version>\n",
      "  <publishedAt>2021-05-31T23:59:59</publishedAt>\n",
      "  <publishedAt>2021-05-31T23:59:59</publishedAt>\n",
      "  <publishedAt>2024-05-31T23:59:59</publishedAt>\n",
      "  <publishedAt>2024-02-29T23:59:59</publishedAt>\n",
      "</namespace>\n",
      "\n"
     ]
    }
   ],
   "source": [
    "### Ajouter l'élément publishedAt\n",
    "\n",
    "### Transformer la date au format xs:dateTime\n",
    "evenmonths = {\"April\":\"04\", \"June\":\"06\", \"September\":\"09\", \"November\":\"11\"}\n",
    "unevenmonths = {\"January\":\"01\", \"March\":\"03\", \"May\":\"05\", \"July\":\"07\", \"August\":\"08\", \"October\":\"10\", \"December\":\"12\"}\n",
    "\n",
    "year = re.search(\"\\d{4}\",crm.get('releaseDate')).group()\n",
    "month = re.search(\"[^\\d\\s]+\",crm.get('releaseDate')).group()\n",
    "\n",
    "if month in evenmonths.keys():\n",
    "    try:\n",
    "        date = year + \"-\" + evenmonths[month] + \"-30T23:59:59\"\n",
    "    except:\n",
    "        print(\"It's an even month but I couldn't do it.\")\n",
    "        \n",
    "elif month in unevenmonths.keys():\n",
    "    try:\n",
    "        date = year + \"-\" + unevenmonths[month] + \"-31T23:59:59\"\n",
    "    except:\n",
    "        print(\"It's an uneven month but I couldn't do it.\")\n",
    "        \n",
    "elif month == \"February\":\n",
    "    try:\n",
    "        if year in [\"2016\", \"2020\", \"2024\", \"2028\", \"2032\", \"2036\", \"2040\", \"2044\", \"2048\", \"2052\", \"2056\", \"2060\", \"2064\"]:\n",
    "            date = year + \"-02-29T23:59:59\"\n",
    "        else:\n",
    "            date = year + \"-02-28T23:59:59\"\n",
    "    except:\n",
    "        print(\"It's February but I couldn't do it.\")\n",
    "else:\n",
    "    print(\"I don't understand \" + crm.get('releaseDate'))\n",
    "\n",
    "### Créer et ajouter l'élément.\n",
    "released = et.SubElement(namespace, 'publishedAt')\n",
    "released.text = date\n",
    "print(et.tostring(namespace, pretty_print=True).decode('utf-8'))"
   ]
  },
  {
   "cell_type": "code",
   "execution_count": 68,
   "id": "869913db-7e82-41b6-b79d-425635ac69a9",
   "metadata": {},
   "outputs": [
    {
     "name": "stdout",
     "output_type": "stream",
     "text": [
      "<namespace>\n",
      "  <standardLabel lang=\"en\">7.1.1 (Mai 2021)</standardLabel>\n",
      "  <version>7.1.1 (May 2021)</version>\n",
      "  <classes/>\n",
      "  <properties/>\n",
      "</namespace>\n",
      "\n"
     ]
    }
   ],
   "source": [
    "### Ajouter les éléments racine de classes et properties\n",
    "classes = et.SubElement(namespace, 'classes')\n",
    "properties = et.SubElement(namespace, 'properties')\n",
    "print(et.tostring(namespace, pretty_print=True).decode('utf-8'))"
   ]
  },
  {
   "cell_type": "code",
   "execution_count": 69,
   "id": "cb289fab-6e5c-4c01-8024-1a1a50fe0fde",
   "metadata": {},
   "outputs": [
    {
     "data": {
      "text/plain": [
       "([<Element standardLabel at 0x7ff3587008c0>,\n",
       "  <Element version at 0x7ff358525140>,\n",
       "  <Element classes at 0x7ff3584960c0>,\n",
       "  <Element properties at 0x7ff3583d9900>],\n",
       " [<Element standardLabel at 0x7ff3587008c0>,\n",
       "  <Element version at 0x7ff358525140>,\n",
       "  <Element classes at 0x7ff3584960c0>,\n",
       "  <Element properties at 0x7ff3583d9900>])"
      ]
     },
     "execution_count": 69,
     "metadata": {},
     "output_type": "execute_result"
    }
   ],
   "source": [
    "### Deux méthodes d'inspection des enfants\n",
    "namespace.getchildren(), [t for t in namespace]"
   ]
  },
  {
   "cell_type": "code",
   "execution_count": null,
   "id": "2889f3a4-e1fc-4eef-b68b-289912da3917",
   "metadata": {},
   "outputs": [],
   "source": [
    "### Valider le document produit jusuq'ici\n",
    "# Normalement il proteste car les éléments classes and properties sont vides\n",
    "try:\n",
    "    xmlschema.assert_(namespace)\n",
    "except Exception as e:\n",
    "    print(e)"
   ]
  },
  {
   "cell_type": "markdown",
   "id": "2f934c73-f3f7-491d-b75e-4c2509f65bda",
   "metadata": {},
   "source": [
    "### Ajouter les enfants des classes"
   ]
  },
  {
   "cell_type": "code",
   "execution_count": 71,
   "id": "134f1028-838f-471c-a616-79475239c3e0",
   "metadata": {},
   "outputs": [],
   "source": [
    "### Reinitialiser le contenu de la balise 'classes'\n",
    "classes.clear()"
   ]
  },
  {
   "cell_type": "code",
   "execution_count": 394,
   "id": "1bb45fe2-3271-4d6e-a1d5-7d3ada25a1c5",
   "metadata": {
    "tags": []
   },
   "outputs": [
    {
     "name": "stdout",
     "output_type": "stream",
     "text": [
      "E94 Extra content at the end of the document, line 4, column 1 (<string>, line 4) 0\n",
      "E95 Extra content at the end of the document, line 16, column 1 (<string>, line 16) 0\n"
     ]
    }
   ],
   "source": [
    "### Reinitialiser le contenu de la balise 'classes',\n",
    "#  puis la remplir\n",
    "classes.clear()\n",
    "for c in classes_orig: #[7:9]:\n",
    "    # underscore à cause du nom réservé\n",
    "    _class = et.SubElement(classes,\"_class\")\n",
    "    \n",
    "    identifierInNamespace =  et.SubElement(_class,'identifierInNamespace')\n",
    "    identifierInNamespace.text = c.get(key='id')\n",
    "    \n",
    "    standardLabel_l = c.iterchildren(tag='className')\n",
    "    standardLabel = et.SubElement(_class,'standardLabel', lang=\"en\")\n",
    "    standardLabel.text = list(standardLabel_l)[0].text\n",
    "    \n",
    "    subClassOf_l = c.iterchildren(tag='subClassOf')\n",
    "    for scl in subClassOf_l:\n",
    "        subClassOf = et.SubElement(_class,'subClassOf')\n",
    "        subClassOf.text = scl.get(key='id')\n",
    "    \n",
    "    textProperties = et.SubElement(_class, 'textProperties')\n",
    "    \n",
    "    scopeNote = et.SubElement(textProperties, 'scopeNote', lang=\"en\")\n",
    "    scopeNote_l = c.iterchildren(tag='scopeNote')\n",
    "    \"\"\" with HTML tags\n",
    "    for sn in scopeNote_l:\n",
    "        [scopeNote.append(p) for p in et.HTML(sn.text).iterdescendants(tag='p')]\n",
    "    \"\"\"\n",
    "    ### keeping HTML entities as in original\n",
    "    for sn in list(scopeNote_l)[:1]:\n",
    "        scopeNote.text = sn.text\n",
    "\n",
    "    examples_l = list(c.iterchildren(tag='examples'))[0]\n",
    "    ### blocs 'try' ajoutés car problème si sans exemples\n",
    "    try:\n",
    "        exam_li = et.fromstring(examples_l.text)\n",
    "        for e in exam_li.iterdescendants(tag='li'):\n",
    "            example = et.SubElement(textProperties, 'example', lang=\"en\")\n",
    "            example.text = et.tostring(e).decode('utf-8')[:et.tostring(e).decode('utf-8').find('</li>')].replace('<li>', '')\n",
    "\n",
    "            \"\"\" Variante qui garderait les tags HTML \n",
    "            e.tag = \"example\"\n",
    "            e.set(\"lang\",\"en\")\n",
    "            textProperties.append(e)\n",
    "            \"\"\"\n",
    "    except Exception as e:\n",
    "        print(c.get(key='id'), e, len(examples_l))\n",
    "        \n",
    "    _class.tag = \"class\"        "
   ]
  },
  {
   "cell_type": "code",
   "execution_count": null,
   "id": "86a111a1-846d-4cbe-9b6b-0b904926438f",
   "metadata": {},
   "outputs": [],
   "source": []
  },
  {
   "cell_type": "code",
   "execution_count": null,
   "id": "c60abfa6-f836-4bc1-a541-b53031ec2482",
   "metadata": {
    "scrolled": true,
    "tags": []
   },
   "outputs": [],
   "source": [
    "### Test output\n",
    "print(et.tostring(namespace, pretty_print=True).decode('utf-8'))"
   ]
  },
  {
   "cell_type": "code",
   "execution_count": 396,
   "id": "d7fd98d4-224f-4299-a13e-f4d0dcfbfefc",
   "metadata": {},
   "outputs": [
    {
     "name": "stdout",
     "output_type": "stream",
     "text": [
      "Element 'properties': Missing child element(s). Expected is ( property ).\n"
     ]
    }
   ],
   "source": [
    "### Valider le document produit jusuq'ici\n",
    "# Normalement il proteste car les éléments classes and properties sont vides\n",
    "try:\n",
    "    xmlschema.assert_(namespace)\n",
    "except Exception as e:\n",
    "    print(e)"
   ]
  },
  {
   "cell_type": "code",
   "execution_count": null,
   "id": "390ccd04-3882-40e4-b0ae-d55813342535",
   "metadata": {},
   "outputs": [],
   "source": []
  },
  {
   "cell_type": "markdown",
   "id": "0a1cf6ac-1161-4b31-9b23-8af052edb1ef",
   "metadata": {
    "tags": []
   },
   "source": [
    "### Ajouter les enfants des propriétés"
   ]
  },
  {
   "cell_type": "markdown",
   "id": "66a43630-c2de-4230-a7db-3c13b9444ac8",
   "metadata": {},
   "source": [
    "#### Test sur les cardinalités"
   ]
  },
  {
   "cell_type": "code",
   "execution_count": 444,
   "id": "19465e58-c639-4868-b15a-db79cf10fa84",
   "metadata": {},
   "outputs": [],
   "source": [
    "pr1 = re.compile('[0,1,2,3,4,5]')\n",
    "pr2 = re.compile('[1,2,3,4,5,n]')"
   ]
  },
  {
   "cell_type": "code",
   "execution_count": 445,
   "id": "5e41f6bd-c39f-483e-b4eb-e2261868c863",
   "metadata": {},
   "outputs": [
    {
     "data": {
      "text/plain": [
       "True"
      ]
     },
     "execution_count": 445,
     "metadata": {},
     "output_type": "execute_result"
    }
   ],
   "source": [
    "a = '0'\n",
    "b = 'n'\n",
    "len(a) == 1 and len(pr1.findall(a)) > 0 \\\n",
    "and len(b) == 1 and len(pr2.findall(b)) > 0"
   ]
  },
  {
   "cell_type": "markdown",
   "id": "fbef1426-1f50-44e7-9071-80b8c2b5346d",
   "metadata": {},
   "source": [
    "#### Récupérer les propriétés"
   ]
  },
  {
   "cell_type": "code",
   "execution_count": 477,
   "id": "61ad9714-340f-44b7-bae8-ac559088cc69",
   "metadata": {
    "tags": []
   },
   "outputs": [
    {
     "name": "stdout",
     "output_type": "stream",
     "text": [
      "<class 'lxml.etree._Element'>\n",
      "{'id': 'P1'}\n",
      "{'id': 'P2'}\n",
      "{'id': 'P3'}\n",
      "{'id': 'P4'}\n",
      "{'id': 'P5'}\n"
     ]
    }
   ],
   "source": [
    "### Tester la récupération des balises 'property'\n",
    "properties_orig = crm.xpath('./properties/property')\n",
    "print(type(properties_orig[0]))\n",
    "for c in properties_orig[:5]:\n",
    "    print(c.attrib)\n"
   ]
  },
  {
   "cell_type": "code",
   "execution_count": null,
   "id": "3d35cdac-3086-45a8-934e-25cecb8f3694",
   "metadata": {
    "scrolled": true,
    "tags": []
   },
   "outputs": [],
   "source": [
    "### Préparation du traitement des quantificateurs\n",
    "for p in properties_orig[7:12]:\n",
    "    txt = list(p.iterchildren('quantification'))[0].text\n",
    "    x = re.findall(\"\\(.{,10}\\)\", txt)\n",
    "    if len(x):\n",
    "        a = (x[0].strip('\\s\\(\\)'))\n",
    "        print(a[0])\n",
    "        print(a[2])\n",
    "        print(a[4])\n",
    "        print(a[6])\n",
    "        "
   ]
  },
  {
   "cell_type": "code",
   "execution_count": 480,
   "id": "171a1752-c50b-4f73-b0d3-ec3275619f64",
   "metadata": {
    "scrolled": true,
    "tags": []
   },
   "outputs": [
    {
     "name": "stdout",
     "output_type": "stream",
     "text": [
      "P176 list index out of range 0\n",
      "domain cardinality issue property P179\n",
      "domain cardinality issue property P180\n",
      "P182 list index out of range 0\n",
      "P184 list index out of range 0\n",
      "P185 list index out of range 0\n",
      "domain cardinality issue property P195\n"
     ]
    }
   ],
   "source": [
    "### Reinitialiser le contenu de la balise 'properties',\n",
    "#  puis la remplir\n",
    "properties.clear()\n",
    "for p in properties_orig: #[7:12]:\n",
    "    # underscore à cause du nom réservé\n",
    "    _property = et.SubElement(properties,\"_property\")\n",
    "    \n",
    "    identifierInNamespace =  et.SubElement(_property,'identifierInNamespace')\n",
    "    p_id = p.get(key='id') \n",
    "    identifierInNamespace.text = p_id\n",
    "\n",
    "    label =  et.SubElement(_property,'label', lang=\"en\")\n",
    "    standardLabel = et.SubElement(label,'standardLabel')\n",
    "    standardLabel.text = list(p.iterchildren(tag='directName'))[0].text\n",
    "    \n",
    "    inverseLabel = et.SubElement(label,'inverseLabel')\n",
    "    if len(list(p.iterchildren(tag='inverseName'))):\n",
    "        inverseLabel.text = list(p.iterchildren(tag='inverseName'))[0].text\n",
    "    else:\n",
    "        inverseLabel.text = ''\n",
    "\n",
    "    subPropertyOf_l = p.iterchildren(tag='subPropertyOf')\n",
    "    for spo in subPropertyOf_l:\n",
    "        subPropertyOf = et.SubElement(_property,'subPropertyOf')\n",
    "        subPropertyOf.text = spo.get(key='id').replace('i','')\n",
    "        \n",
    "    hasDomain = et.SubElement(_property,'hasDomain')   \n",
    "    hasDomain.text = list(p.iterchildren(tag='domain'))[0].get(key='id')\n",
    "    \n",
    "    hasRange = et.SubElement(_property,'hasRange')   \n",
    "    hasRange.text = list(p.iterchildren(tag='range'))[0].get(key='id')\n",
    "    \n",
    "    txt = list(p.iterchildren('quantification'))[0].text\n",
    "    x = re.findall(\"\\(.{,10}\\)\", txt)\n",
    "    if len(x):\n",
    "        a = (x[0].strip('\\s\\(\\)'))\n",
    "        a_4 = str(a[4])\n",
    "        a_6 = str(a[6])\n",
    "        a_0 = str(a[0])\n",
    "        a_2 = str(a[2])\n",
    "\n",
    "        if len(a_4) == 1 and len(pr1.findall(a_4)) > 0 \\\n",
    "                and len(a_6) == 1 and len(pr2.findall(a_6)) > 0 :\n",
    "            domainInstancesMinQuantifier = et.SubElement(_property,\\\n",
    "                                                'domainInstancesMinQuantifier')\n",
    "            domainInstancesMinQuantifier.text = a[4]\n",
    "            domainInstancesMaxQuantifier = et.SubElement(_property,\\\n",
    "                                                'domainInstancesMaxQuantifier')\n",
    "            domainInstancesMaxQuantifier.text = a[6]\n",
    "        else:\n",
    "            print(f'domain cardinality issue property {p_id}')\n",
    "            \n",
    "        if len(a_0) == 1 and len(pr1.findall(a_0)) > 0 \\\n",
    "                and len(a_2) == 1 and len(pr2.findall(a_2)) > 0 :\n",
    "            rangeInstancesMinQuantifier = et.SubElement(_property,\\\n",
    "                                            'rangeInstancesMinQuantifier')\n",
    "            rangeInstancesMinQuantifier.text = a[0]\n",
    "            rangeInstancesMaxQuantifier = et.SubElement(_property,\\\n",
    "                                                'rangeInstancesMaxQuantifier')\n",
    "            rangeInstancesMaxQuantifier.text = a[2]\n",
    "        else:\n",
    "            print(f'range cardinality issue property {p_id}')\n",
    "            \n",
    "            \n",
    "        \n",
    "\n",
    "    textProperties = et.SubElement(_property, 'textProperties')      \n",
    "    \n",
    "    scopeNote = et.SubElement(textProperties, 'scopeNote', lang=\"en\")\n",
    "    scopeNote_l = c.iterchildren(tag='scopeNote')    \n",
    "    \"\"\"for sn in scopeNote_l:\n",
    "        [scopeNote.append(p) for p in et.HTML(sn.text).iterdescendants(tag='p')]\n",
    "    \"\"\"\n",
    "    ### keeping HTML entities as in original\n",
    "    for sn in list(scopeNote_l)[:1]:\n",
    "        scopeNote.text = sn.text\n",
    "    \n",
    "    \"\"\"   if len(list(p.iterchildren(tag='examples'))):\n",
    "        examples_l = list(p.iterchildren(tag='examples'))[0]\n",
    "        for li in et.HTML(examples_l.text).xpath('./body/ul/li'):\n",
    "            #example = et.SubElement(textProperties, 'example', lang=\"en\")\n",
    "            # example.text = li.text\n",
    "            li.tag = \"example\"\n",
    "            li.set(\"lang\",\"en\")\n",
    "            textProperties.append(li)\"\"\"\n",
    "            \n",
    "     \n",
    "    \n",
    "    \n",
    "    ### blocs 'try' ajoutés car problème si sans exemples\n",
    "    try:\n",
    "        examples_l = list(p.iterchildren(tag='examples'))[0]\n",
    "        exam_li = et.fromstring(examples_l.text)\n",
    "        for e in exam_li.iterdescendants(tag='li'):\n",
    "            example = et.SubElement(textProperties, 'example', lang=\"en\")\n",
    "            example.text = et.tostring(e).decode('utf-8')[:et.tostring(e).decode('utf-8').find('</li>')].replace('<li>', '')\n",
    "            \"\"\" Variante qui garderait les tags HTML \n",
    "            e.tag = \"example\"\n",
    "            e.set(\"lang\",\"en\")\n",
    "            textProperties.append(e)\n",
    "            \"\"\"\n",
    "    except Exception as e:\n",
    "        print(p_id, e, len(examples_l))\n",
    "    \n",
    "    \n",
    "    \n",
    " \n",
    "    _property.tag = \"property\""
   ]
  },
  {
   "cell_type": "code",
   "execution_count": null,
   "id": "5a70fb7b-b569-4517-8c2a-703683f83540",
   "metadata": {
    "scrolled": true,
    "tags": []
   },
   "outputs": [],
   "source": [
    "# print(et.tostring(namespace, pretty_print=True).decode('utf-8'))"
   ]
  },
  {
   "cell_type": "code",
   "execution_count": 481,
   "id": "20311d6d-b038-4f9d-a948-1b2378a95bd7",
   "metadata": {},
   "outputs": [],
   "source": [
    "### Valider le document produit jusuq'ici\n",
    "# Normalement il proteste car les éléments classes and properties sont vides\n",
    "try:\n",
    "    xmlschema.assert_(namespace)\n",
    "except Exception as e:\n",
    "    print(e)"
   ]
  },
  {
   "cell_type": "code",
   "execution_count": null,
   "id": "de2a4b66-d2bf-40a3-a7a0-4610c6aa490a",
   "metadata": {},
   "outputs": [],
   "source": []
  },
  {
   "cell_type": "code",
   "execution_count": null,
   "id": "622cd8e5-c0c9-4672-9127-66222be4346c",
   "metadata": {},
   "outputs": [],
   "source": []
  },
  {
   "cell_type": "code",
   "execution_count": 482,
   "id": "2e6307cc-8429-4d21-b054-409f2249c383",
   "metadata": {},
   "outputs": [],
   "source": [
    "### Ecrire le document\n",
    "dt = datetime.now()\n",
    "tmsp = dt.strftime(\"%Y%m%d_%H%M%S\")\n",
    "# tmsp = ''\n",
    "filename = f'data/output_{tmsp}.xml'\n",
    "### Préparer l'arbre XML et l'écrire dans un fichier\n",
    "# la méthode write() est disponible pour le type _ElementTree non pour _Element\n",
    "tree = namespace.getroottree()\n",
    "### xml_declaration=True, encoding=\"utf-8\"\n",
    "tree.write(filename, pretty_print=True, xml_declaration=True, encoding=\"utf-8\")"
   ]
  },
  {
   "cell_type": "code",
   "execution_count": null,
   "id": "7cf93d21-fba2-4017-9588-7c0677a3dd17",
   "metadata": {},
   "outputs": [],
   "source": []
  },
  {
   "cell_type": "code",
   "execution_count": 487,
   "id": "22d7d2a0-020b-4774-9fdd-2372ddb6a1ae",
   "metadata": {},
   "outputs": [
    {
     "name": "stdout",
     "output_type": "stream",
     "text": [
      "<class 'lxml.etree._Element'>\n"
     ]
    }
   ],
   "source": [
    "### Normalement cette syntaxe doit tester si le document de sortie est bien formé\n",
    "with open(filename, 'r') as f:\n",
    "    # txt = f.read()\n",
    "    ### omet la xml_declaration qui ne peut pas être lue par et.fromstring()\n",
    "    txt = ''.join(f.readlines()[1:])\n",
    "    \n",
    "    \n",
    "try:\n",
    "    # test_xmlf = et.parse(filename)\n",
    "    test_xmlf = et.fromstring(txt)\n",
    "    print(type(test_xmlf))\n",
    "except Exception as e:\n",
    "    print('Error: ' + str(e))\n",
    "    "
   ]
  },
  {
   "cell_type": "code",
   "execution_count": null,
   "id": "397b8c9d-b538-414d-bea5-69768046111b",
   "metadata": {
    "scrolled": true,
    "tags": []
   },
   "outputs": [],
   "source": [
    "print(et.tostring(test_xmlf, pretty_print=True).decode('utf-8'))"
   ]
  },
  {
   "cell_type": "code",
   "execution_count": null,
   "id": "fb5432ad-7b6c-41c1-8a99-d1cffc879a42",
   "metadata": {},
   "outputs": [],
   "source": []
  },
  {
   "cell_type": "code",
   "execution_count": null,
   "id": "cc815452-2a5d-4bc6-831c-0482b95f7485",
   "metadata": {},
   "outputs": [],
   "source": []
  }
 ],
 "metadata": {
  "kernelspec": {
   "display_name": "Python 3 (ipykernel)",
   "language": "python",
   "name": "python3"
  },
  "language_info": {
   "codemirror_mode": {
    "name": "ipython",
    "version": 3
   },
   "file_extension": ".py",
   "mimetype": "text/x-python",
   "name": "python",
   "nbconvert_exporter": "python",
   "pygments_lexer": "ipython3",
   "version": "3.9.7"
  }
 },
 "nbformat": 4,
 "nbformat_minor": 5
}
