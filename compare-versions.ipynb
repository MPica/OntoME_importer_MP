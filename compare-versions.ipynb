{
 "cells": [
  {
   "cell_type": "markdown",
   "id": "6be8c65e",
   "metadata": {},
   "source": [
    "# Comparing versions of the CIDOC-CRM\n",
    "\n",
    "Script comparing versions 7.1.1 and 7.1.2 of the CIDOC-CRM to check what exactly has changed. It creates Json files for the differences to be imported into OntoME.\n",
    "\n",
    "### Library imports"
   ]
  },
  {
   "cell_type": "code",
   "execution_count": 33,
   "id": "2ce994ef",
   "metadata": {},
   "outputs": [],
   "source": [
    "import lxml.etree as et\n",
    "from itertools import chain\n",
    "import numpy as np\n",
    "import json"
   ]
  },
  {
   "cell_type": "markdown",
   "id": "9649aaf3",
   "metadata": {},
   "source": [
    "### XML imports"
   ]
  },
  {
   "cell_type": "code",
   "execution_count": 3,
   "id": "64a15373",
   "metadata": {},
   "outputs": [],
   "source": [
    "xml_711 = \"input/cidoc_crm_v7.1.1.xml\"\n",
    "xml_712 = \"input/cidoc_crm_v7.1.2.xml\"\n",
    "\n",
    "with open(xml_711) as xmlfile:\n",
    "    tree = et.parse(xmlfile)\n",
    "    root_711 = tree.getroot()\n",
    "\n",
    "with open(xml_712) as xmlfile:\n",
    "    tree = et.parse(xmlfile)\n",
    "    root_712 = tree.getroot()"
   ]
  },
  {
   "cell_type": "markdown",
   "id": "589e0ad8",
   "metadata": {},
   "source": [
    "### Counting classes and properties\n",
    "\n",
    "... to check none was added or removed."
   ]
  },
  {
   "cell_type": "code",
   "execution_count": 4,
   "id": "869f9f12",
   "metadata": {},
   "outputs": [
    {
     "name": "stdout",
     "output_type": "stream",
     "text": [
      "81  classes in 7.1.1.\n",
      "81  classes in 7.1.2.\n",
      "160  properties in 7.1.1.\n",
      "160  properties in 7.1.2.\n"
     ]
    }
   ],
   "source": [
    "print(len(root_711.findall(\".//class\")), \" classes in 7.1.1.\")\n",
    "print(len(root_712.findall(\".//class\")), \" classes in 7.1.2.\")\n",
    "print(len(root_711.findall(\".//property\")), \" properties in 7.1.1.\")\n",
    "print(len(root_712.findall(\".//property\")), \" properties in 7.1.2.\")"
   ]
  },
  {
   "cell_type": "markdown",
   "id": "8df159b6",
   "metadata": {},
   "source": [
    "### Comparing classes"
   ]
  },
  {
   "cell_type": "code",
   "execution_count": 34,
   "id": "b86d46ae",
   "metadata": {
    "scrolled": true
   },
   "outputs": [
    {
     "name": "stdout",
     "output_type": "stream",
     "text": [
      "There are 29 classes to change.\n"
     ]
    }
   ],
   "source": [
    "changed_classes = {}\n",
    "\n",
    "for classe in root_711.findall('.//class'):\n",
    "    \n",
    "    # A marker to avoid looping on the next classes\n",
    "    # once the matching class has been found in 7.1.2.\n",
    "    \n",
    "    gotit = False\n",
    "    \n",
    "    # The class change dictionary.\n",
    "    changes = {}\n",
    "    \n",
    "    ident = classe.get('id')\n",
    "    className = classe.find('className').text\n",
    "    examples = classe.find('examples').text\n",
    "    fullName = classe.find('fullName').text\n",
    "    inFirstOrderLogic = classe.find('inFirstOrderLogic').text\n",
    "    scopeNote = classe.find('scopeNote').text\n",
    "    \n",
    "    sCO = classe.find('subClassOf')\n",
    "    if sCO != None:\n",
    "        subClassOf = sCO.get('id')\n",
    "    else:\n",
    "        subClassOf = None\n",
    "    \n",
    "    # Now looping on 7.1.2 classes, until the matching\n",
    "    # one is found. Then we change the marker value\n",
    "    # and start comparing contents.\n",
    "    \n",
    "    while gotit == False:\n",
    "    \n",
    "        for cl712 in root_712.findall('.//class'):\n",
    "            if cl712.get('id') == ident:\n",
    "                gotit = True\n",
    "                \n",
    "                if cl712.find('className').text != className:\n",
    "                    changes['className'] = cl712.find('className').text\n",
    "                    \n",
    "                if cl712.find('examples').text != examples:\n",
    "                    changes['examples'] = cl712.find('examples').text\n",
    "                    \n",
    "                if cl712.find('fullName').text != fullName:\n",
    "                    changes['fullName'] = cl712.find('fullName').text\n",
    "                    \n",
    "                if cl712.find('inFirstOrderLogic').text != inFirstOrderLogic:\n",
    "                    changes['inFirstOrderLogic'] = cl712.find('inFirstOrderLogic').text\n",
    "                    \n",
    "                if cl712.find('scopeNote').text != scopeNote:\n",
    "                    changes['scopeNote'] = cl712.find('scopeNote').text\n",
    "                \n",
    "                # This one is optional, so the test is longer.\n",
    "                sCO2 = cl712.find('subClassOf')\n",
    "                if sCO2 != None:\n",
    "                    subClassOf2 = sCO2.get('id')\n",
    "                else:\n",
    "                    subClassOf2 = None\n",
    "                \n",
    "                if subClassOf2 != subClassOf:\n",
    "                    changes['subClassOf'] = subClassOf2\n",
    "    \n",
    "    if gotit == False:\n",
    "        print(f\"Class {ident} has no equivalent in version 7.1.2.\")\n",
    "    \n",
    "    if len(changes.keys()) != 0:\n",
    "        changed_classes[ident] = changes\n",
    "        \n",
    "print(f'There are {len(changed_classes.keys())} classes to change.')"
   ]
  },
  {
   "cell_type": "markdown",
   "id": "79cbf2a3",
   "metadata": {},
   "source": [
    "### Comparing properties"
   ]
  },
  {
   "cell_type": "code",
   "execution_count": 37,
   "id": "ae02eeea",
   "metadata": {
    "scrolled": false
   },
   "outputs": [
    {
     "name": "stdout",
     "output_type": "stream",
     "text": [
      "There are 70 properties to change.\n"
     ]
    }
   ],
   "source": [
    "changed_props = {}\n",
    "\n",
    "for prop in root_711.findall('.//property'):\n",
    "    \n",
    "    gotit = False\n",
    "    \n",
    "    changes = {}\n",
    "    \n",
    "    ident = prop.get('id')\n",
    "    directName = prop.find('directName').text\n",
    "    \n",
    "    if prop.find('examples') is not None:\n",
    "        examples = prop.find('examples').text\n",
    "    else:\n",
    "        examples = None\n",
    "    \n",
    "    fullName = prop.find('fullName').text\n",
    "    scopeNote = prop.find('scopeNote').text\n",
    "    quantification = prop.find('quantification').text\n",
    "    \n",
    "    if prop.find('propertyOfProperty') is not None:\n",
    "        propOfProp = prop.find('propertyOfProperty').text\n",
    "    else:\n",
    "        propOfProp = None\n",
    "    \n",
    "    dom = prop.find('domain')\n",
    "    if dom != None:\n",
    "        domain = dom.get('id')\n",
    "    else:\n",
    "        domain = None\n",
    "    \n",
    "    rg = prop.find('range')\n",
    "    if rg != None:\n",
    "        prange = rg.get('id')\n",
    "    else:\n",
    "        prange = None\n",
    "    \n",
    "    sPO = prop.find('subPropertyOf')\n",
    "    if sPO != None:\n",
    "        subPropOf = []\n",
    "        for overprop in prop.findall('subPropertyOf'):\n",
    "            subPropOf.append(overprop.get('id'))\n",
    "    else:\n",
    "        subPropOf = None\n",
    "    \n",
    "    while gotit == False:\n",
    "    \n",
    "        for p712 in root_712.findall('.//property'):\n",
    "            if p712.get('id') == ident:\n",
    "                gotit = True\n",
    "                \n",
    "                # Simple comparison for those who are always\n",
    "                # there and always once.\n",
    "                \n",
    "                if p712.find('directName').text != directName:\n",
    "                    changes['directName'] = p712.find('directName').text\n",
    "                    \n",
    "                if p712.find('examples') is not None:\n",
    "                    if p712.find('examples').text != examples:\n",
    "                        changes['examples'] = p712.find('examples').text\n",
    "                    \n",
    "                if p712.find('fullName').text != fullName:\n",
    "                    changes['fullName'] = p712.find('fullName').text\n",
    "                    \n",
    "                if p712.find('scopeNote').text != scopeNote:\n",
    "                    changes['scopeNote'] = p712.find('scopeNote').text\n",
    "                \n",
    "                if p712.find('propertyOfProperty') is not None:\n",
    "                    if p712.find('propertyOfProperty').text != propOfProp:\n",
    "                        changes['propertyOfProperty'] = p712.find('propertyOfProperty').text\n",
    "                    \n",
    "                if p712.find('quantification').text != quantification:\n",
    "                    changes['quantification'] = p712.find('quantification').text\n",
    "                \n",
    "                # For subPropertyOf, which is sometimes there, sometimes not,\n",
    "                # sometimes more than once. First explore the 7.1.2 property contents.\n",
    "                \n",
    "                spo2 = p712.find('subPropertyOf')\n",
    "                if spo2 != None:\n",
    "                    subPropOf2 = []\n",
    "                    for overprop in p712.findall('subPropertyOf'):\n",
    "                        subPropOf2.append(overprop.get('id'))\n",
    "                else:\n",
    "                    subPropOf2 = None\n",
    "                \n",
    "                # Set a marker.\n",
    "                changeSPO = False\n",
    "                \n",
    "                # If 7.1.1 and 7.1.2 both have subPropertyOf elements,\n",
    "                # check if the contents are the same.\n",
    "                if type(subPropOf2) == list and type(subPropOf) == list:\n",
    "                    for item in subPropOf2:\n",
    "                        if item not in subPropOf:\n",
    "                            changeSPO = True\n",
    "                    if changeSPO == True:\n",
    "                        changes['subPropertyOf'] = subPropOf2\n",
    "                \n",
    "                elif type(subPropOf2) == list or type(subPropOf) == list:\n",
    "                    changes['subPropertyOf'] = subPropOf2\n",
    "                \n",
    "                # Now for the optional elements.\n",
    "                    \n",
    "                ran2 = p712.find('range')\n",
    "                if ran2 != None:\n",
    "                    range2 = ran2.get('id')\n",
    "                else:\n",
    "                    range2 = None\n",
    "                \n",
    "                if range2 != prange:\n",
    "                    changes['range'] = range2\n",
    "                    \n",
    "                    \n",
    "                dom2 = p712.find('domain')\n",
    "                if dom2 != None:\n",
    "                    domain2 = dom2.get('id')\n",
    "                else:\n",
    "                    domain2 = None\n",
    "                \n",
    "                if domain2 != domain:\n",
    "                    changes['domain'] = domain2\n",
    "                    \n",
    "    if gotit == False:\n",
    "        print(f\"Property {ident} has no equivalent in version 7.1.2.\")\n",
    "    \n",
    "    if len(changes) != 0:\n",
    "        changed_props[ident] = changes\n",
    "        \n",
    "print(f'There are {len(changed_props.keys())} properties to change.')"
   ]
  },
  {
   "cell_type": "markdown",
   "id": "c414b057",
   "metadata": {},
   "source": [
    "### Showing exactly what kind of information will need changing"
   ]
  },
  {
   "cell_type": "code",
   "execution_count": null,
   "id": "8558b6a7",
   "metadata": {},
   "outputs": [],
   "source": [
    "classvalues = []\n",
    "propvalues = []\n",
    "\n",
    "for classe in changed_classes.keys():\n",
    "    for classkey in changed_classes[classe].keys():\n",
    "        classvalues.append(classkey)\n",
    "\n",
    "for prop in changed_props.keys():\n",
    "    for propkey in changed_props[prop].keys():\n",
    "        propvalues.append(propkey)"
   ]
  },
  {
   "cell_type": "code",
   "execution_count": 28,
   "id": "09ee9c87",
   "metadata": {},
   "outputs": [
    {
     "name": "stdout",
     "output_type": "stream",
     "text": [
      "À changer dans les classes :  {'examples': 23, 'scopeNote': 15}\n",
      "À changer dans les propriétés :  {'examples': 35, 'fullName': 1, 'range': 2, 'scopeNote': 45, 'subPropertyOf': 2}\n"
     ]
    }
   ],
   "source": [
    "classprint = {}\n",
    "propprint = {}\n",
    "\n",
    "for item in np.unique(classvalues):\n",
    "    classprint[item] = classvalues.count(item)\n",
    "for item in np.unique(propvalues):\n",
    "    propprint[item] = propvalues.count(item)\n",
    "    \n",
    "print(\"À changer dans les classes : \", classprint)\n",
    "print(\"À changer dans les propriétés : \", propprint)"
   ]
  },
  {
   "cell_type": "markdown",
   "id": "4e7d7614",
   "metadata": {},
   "source": [
    "### Making final files"
   ]
  },
  {
   "cell_type": "code",
   "execution_count": 32,
   "id": "e909e921",
   "metadata": {},
   "outputs": [],
   "source": [
    "classes_examples = {}\n",
    "classes_scopeNote = {}\n",
    "properties_examples = {}\n",
    "properties_scopeNote = {}\n",
    "\n",
    "for classe in changed_classes.keys():\n",
    "    if 'examples' in changed_classes[classe].keys():\n",
    "        classes_examples[classe] = changed_classes[classe]['examples']\n",
    "    if 'scopeNote' in changed_classes[classe].keys():\n",
    "        classes_scopeNote[classe] = changed_classes[classe]['scopeNote']\n",
    "        \n",
    "\n",
    "for prop in changed_props.keys():\n",
    "    if 'examples' in changed_props[prop].keys():\n",
    "        properties_examples[prop] = changed_props[prop]['examples']\n",
    "    if 'scopeNote' in changed_props[prop].keys():\n",
    "        properties_scopeNote[prop] = changed_props[prop]['scopeNote']\n",
    "        \n",
    "with open('output/classes_examples.json', 'w') as clex:\n",
    "    json.dump(classes_examples, clex, ensure_ascii = False)\n",
    "with open('output/classes_scopeNote.json', 'w') as clsn:\n",
    "    json.dump(classes_scopeNote, clsn, ensure_ascii = False)\n",
    "with open('output/properties_examples.json', 'w') as prex:\n",
    "    json.dump(properties_examples, prex, ensure_ascii = False)\n",
    "with open('output/properties_scopeNote.json', 'w') as prsn:\n",
    "    json.dump(properties_scopeNote, prsn, ensure_ascii = False)"
   ]
  }
 ],
 "metadata": {
  "kernelspec": {
   "display_name": "Python 3 (ipykernel)",
   "language": "python",
   "name": "python3"
  },
  "language_info": {
   "codemirror_mode": {
    "name": "ipython",
    "version": 3
   },
   "file_extension": ".py",
   "mimetype": "text/x-python",
   "name": "python",
   "nbconvert_exporter": "python",
   "pygments_lexer": "ipython3",
   "version": "3.9.7"
  }
 },
 "nbformat": 4,
 "nbformat_minor": 5
}
